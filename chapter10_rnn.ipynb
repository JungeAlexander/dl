{
 "cells": [
  {
   "cell_type": "markdown",
   "metadata": {},
   "source": [
    "# Recurrent neural networks (RNNs) in `keras`"
   ]
  },
  {
   "cell_type": "markdown",
   "metadata": {},
   "source": [
    "Examples: https://github.com/fchollet/keras/tree/master/examples\n",
    "\n",
    "To consider/compare:\n",
    "\n",
    "https://github.com/fchollet/keras/blob/master/examples/imdb_fasttext.py\n",
    "\n",
    "https://github.com/fchollet/keras/blob/master/examples/lstm_benchmark.py\n",
    "\n",
    "https://github.com/fchollet/keras/blob/master/examples/imdb_bidirectional_lstm.py"
   ]
  },
  {
   "cell_type": "code",
   "execution_count": 1,
   "metadata": {},
   "outputs": [
    {
     "name": "stderr",
     "output_type": "stream",
     "text": [
      "Using TensorFlow backend.\n"
     ]
    }
   ],
   "source": [
    "import numpy as np\n",
    "\n",
    "from keras.preprocessing import sequence\n",
    "from keras.models import Sequential\n",
    "from keras.layers import Dense, Dropout, Embedding, LSTM, Bidirectional\n",
    "from keras.datasets import imdb\n",
    "from keras.utils import plot_model"
   ]
  },
  {
   "cell_type": "markdown",
   "metadata": {},
   "source": [
    "## Loading the IMDB sentiment classification dataset"
   ]
  },
  {
   "cell_type": "markdown",
   "metadata": {},
   "source": [
    "Dataset used here is [IMDB Movie reviews sentiment classification dataset](https://keras.io/datasets/#imdb-movie-reviews-sentiment-classification) available through `keras`:\n",
    "\n",
    "- 25,000 movies reviews from IMDB\n",
    "- binary labeling by sentiment (positive/negative)\n",
    "- reviews encoded as a sequence of integers representing word indices\n",
    "- words indexed by overall frequency, \"1\" is corresponds to most frequent word\n",
    "- `imdb.load_data()` comes with option to consider only the top most frequent words"
   ]
  },
  {
   "cell_type": "code",
   "execution_count": 2,
   "metadata": {
    "collapsed": true
   },
   "outputs": [],
   "source": [
    "max_features = 20000\n",
    "(x_train, y_train), (x_test, y_test) = imdb.load_data(num_words=max_features)"
   ]
  },
  {
   "cell_type": "code",
   "execution_count": 3,
   "metadata": {},
   "outputs": [
    {
     "data": {
      "text/plain": [
       "[1, 14, 22, 16, 43]"
      ]
     },
     "execution_count": 3,
     "metadata": {},
     "output_type": "execute_result"
    }
   ],
   "source": [
    "x_train[0][:5]"
   ]
  },
  {
   "cell_type": "code",
   "execution_count": 4,
   "metadata": {},
   "outputs": [
    {
     "data": {
      "text/plain": [
       "array([1, 0, 0, 1, 0])"
      ]
     },
     "execution_count": 4,
     "metadata": {},
     "output_type": "execute_result"
    }
   ],
   "source": [
    "y_train[:5]"
   ]
  },
  {
   "cell_type": "code",
   "execution_count": 5,
   "metadata": {},
   "outputs": [
    {
     "name": "stdout",
     "output_type": "stream",
     "text": [
      "25000 train sequences\n",
      "25000 test sequences\n",
      "Average train sequence length: 238\n",
      "Average test sequence length: 230\n"
     ]
    }
   ],
   "source": [
    "print(len(x_train), 'train sequences')\n",
    "print(len(x_test), 'test sequences')\n",
    "print('Average train sequence length: {}'.format(np.mean(list(map(len, x_train)), dtype=int)))\n",
    "print('Average test sequence length: {}'.format(np.mean(list(map(len, x_test)), dtype=int)))"
   ]
  },
  {
   "cell_type": "code",
   "execution_count": 6,
   "metadata": {},
   "outputs": [
    {
     "name": "stdout",
     "output_type": "stream",
     "text": [
      "x_train shape: (25000, 300)\n",
      "x_test shape: (25000, 300)\n"
     ]
    }
   ],
   "source": [
    "maxlen = 300\n",
    "# pad sequences shorter than maxlen with 0s; truncate \n",
    "# longer sequences to maxlen\n",
    "x_train = sequence.pad_sequences(x_train, maxlen=maxlen)\n",
    "x_test = sequence.pad_sequences(x_test, maxlen=maxlen)\n",
    "print('x_train shape:', x_train.shape)\n",
    "print('x_test shape:', x_test.shape)\n",
    "y_train = np.array(y_train)\n",
    "y_test = np.array(y_test)"
   ]
  },
  {
   "cell_type": "markdown",
   "metadata": {},
   "source": [
    "## Plain LSTM"
   ]
  },
  {
   "cell_type": "code",
   "execution_count": 7,
   "metadata": {
    "collapsed": true
   },
   "outputs": [],
   "source": [
    "model = Sequential()\n",
    "model.add(Embedding(max_features, 128, input_length=maxlen))\n",
    "model.add(LSTM(64))\n",
    "model.add(Dropout(0.5))\n",
    "model.add(Dense(1, activation='sigmoid'))\n",
    "\n",
    "# try using different optimizers and different optimizer configs\n",
    "model.compile('adam', 'binary_crossentropy', metrics=['accuracy'])"
   ]
  },
  {
   "cell_type": "code",
   "execution_count": 8,
   "metadata": {
    "collapsed": true
   },
   "outputs": [],
   "source": [
    "plot_model(model, to_file='img/chapter_10_rnn_no_bidir.png', show_shapes=True)"
   ]
  },
  {
   "cell_type": "markdown",
   "metadata": {},
   "source": [
    "![](img/chapter_10_rnn_no_bidir.png)"
   ]
  },
  {
   "cell_type": "code",
   "execution_count": 9,
   "metadata": {
    "collapsed": true
   },
   "outputs": [],
   "source": [
    "batch_size = 32\n",
    "epochs = 10"
   ]
  },
  {
   "cell_type": "code",
   "execution_count": 10,
   "metadata": {},
   "outputs": [
    {
     "name": "stdout",
     "output_type": "stream",
     "text": [
      "Train on 25000 samples, validate on 25000 samples\n",
      "Epoch 1/10\n",
      "25000/25000 [==============================] - 699s - loss: 0.4058 - acc: 0.8138 - val_loss: 0.4562 - val_acc: 0.7861\n",
      "Epoch 2/10\n",
      "25000/25000 [==============================] - 729s - loss: 0.2252 - acc: 0.9159 - val_loss: 0.3223 - val_acc: 0.8666\n",
      "Epoch 3/10\n",
      "25000/25000 [==============================] - 630s - loss: 0.1582 - acc: 0.9431 - val_loss: 0.3676 - val_acc: 0.8656\n",
      "Epoch 4/10\n",
      "25000/25000 [==============================] - 1121s - loss: 0.1123 - acc: 0.9609 - val_loss: 0.4183 - val_acc: 0.8652\n",
      "Epoch 5/10\n",
      "25000/25000 [==============================] - 635s - loss: 0.0799 - acc: 0.9733 - val_loss: 0.5016 - val_acc: 0.8648\n",
      "Epoch 6/10\n",
      "25000/25000 [==============================] - 659s - loss: 0.0569 - acc: 0.9819 - val_loss: 0.5631 - val_acc: 0.8512\n",
      "Epoch 7/10\n",
      "25000/25000 [==============================] - 668s - loss: 0.0465 - acc: 0.9853 - val_loss: 0.5879 - val_acc: 0.8596\n",
      "Epoch 8/10\n",
      "25000/25000 [==============================] - 693s - loss: 0.0321 - acc: 0.9908 - val_loss: 0.6612 - val_acc: 0.8552\n",
      "Epoch 9/10\n",
      "25000/25000 [==============================] - 687s - loss: 0.0404 - acc: 0.9873 - val_loss: 0.6174 - val_acc: 0.8165\n",
      "Epoch 10/10\n",
      "25000/25000 [==============================] - 660s - loss: 0.0476 - acc: 0.9856 - val_loss: 0.6479 - val_acc: 0.8465\n"
     ]
    },
    {
     "data": {
      "text/plain": [
       "<keras.callbacks.History at 0x12b213cf8>"
      ]
     },
     "execution_count": 10,
     "metadata": {},
     "output_type": "execute_result"
    }
   ],
   "source": [
    "model.fit(x_train, y_train,\n",
    "          batch_size=batch_size,\n",
    "          epochs=epochs,\n",
    "          validation_data=[x_test, y_test])"
   ]
  },
  {
   "cell_type": "markdown",
   "metadata": {},
   "source": [
    "## Bi-directional LSTM"
   ]
  },
  {
   "cell_type": "code",
   "execution_count": 11,
   "metadata": {
    "collapsed": true
   },
   "outputs": [],
   "source": [
    "model = Sequential()\n",
    "model.add(Embedding(max_features, 128, input_length=maxlen))\n",
    "model.add(Bidirectional(LSTM(64)))\n",
    "model.add(Dropout(0.5))\n",
    "model.add(Dense(1, activation='sigmoid'))\n",
    "\n",
    "# try using different optimizers and different optimizer configs\n",
    "model.compile('adam', 'binary_crossentropy', metrics=['accuracy'])"
   ]
  },
  {
   "cell_type": "code",
   "execution_count": 12,
   "metadata": {
    "collapsed": true
   },
   "outputs": [],
   "source": [
    "plot_model(model, to_file='img/chapter_10_rnn.png', show_shapes=True)"
   ]
  },
  {
   "cell_type": "markdown",
   "metadata": {},
   "source": [
    "![](img/chapter_10_rnn.png)"
   ]
  },
  {
   "cell_type": "code",
   "execution_count": 13,
   "metadata": {
    "collapsed": true
   },
   "outputs": [],
   "source": [
    "batch_size = 32\n",
    "epochs = 10"
   ]
  },
  {
   "cell_type": "code",
   "execution_count": 14,
   "metadata": {},
   "outputs": [
    {
     "name": "stdout",
     "output_type": "stream",
     "text": [
      "Train on 25000 samples, validate on 25000 samples\n",
      "Epoch 1/10\n",
      "25000/25000 [==============================] - 826s - loss: 0.4134 - acc: 0.8109 - val_loss: 0.3387 - val_acc: 0.8601\n",
      "Epoch 2/10\n",
      "25000/25000 [==============================] - 860s - loss: 0.2529 - acc: 0.9058 - val_loss: 0.3544 - val_acc: 0.8508\n",
      "Epoch 3/10\n",
      "25000/25000 [==============================] - 874s - loss: 0.1719 - acc: 0.9380 - val_loss: 0.3426 - val_acc: 0.8666\n",
      "Epoch 4/10\n",
      "25000/25000 [==============================] - 839s - loss: 0.1165 - acc: 0.9608 - val_loss: 0.3985 - val_acc: 0.8422\n",
      "Epoch 5/10\n",
      "25000/25000 [==============================] - 903s - loss: 0.0938 - acc: 0.9682 - val_loss: 0.4626 - val_acc: 0.8665\n",
      "Epoch 6/10\n",
      "25000/25000 [==============================] - 854s - loss: 0.0574 - acc: 0.9811 - val_loss: 0.4859 - val_acc: 0.8617\n",
      "Epoch 7/10\n",
      "25000/25000 [==============================] - 825s - loss: 0.0578 - acc: 0.9815 - val_loss: 0.5586 - val_acc: 0.8501\n",
      "Epoch 8/10\n",
      "25000/25000 [==============================] - 813s - loss: 0.0429 - acc: 0.9858 - val_loss: 0.6032 - val_acc: 0.8555\n",
      "Epoch 9/10\n",
      "25000/25000 [==============================] - 815s - loss: 0.0275 - acc: 0.9918 - val_loss: 0.6182 - val_acc: 0.8561\n",
      "Epoch 10/10\n",
      "25000/25000 [==============================] - 924s - loss: 0.0180 - acc: 0.9949 - val_loss: 0.7565 - val_acc: 0.7954\n"
     ]
    },
    {
     "data": {
      "text/plain": [
       "<keras.callbacks.History at 0x1345dfb00>"
      ]
     },
     "execution_count": 14,
     "metadata": {},
     "output_type": "execute_result"
    }
   ],
   "source": [
    "model.fit(x_train, y_train,\n",
    "          batch_size=batch_size,\n",
    "          epochs=epochs,\n",
    "          validation_data=[x_test, y_test])"
   ]
  }
 ],
 "metadata": {
  "kernelspec": {
   "display_name": "Python 3",
   "language": "python",
   "name": "python3"
  },
  "language_info": {
   "codemirror_mode": {
    "name": "ipython",
    "version": 3
   },
   "file_extension": ".py",
   "mimetype": "text/x-python",
   "name": "python",
   "nbconvert_exporter": "python",
   "pygments_lexer": "ipython3",
   "version": "3.6.1"
  }
 },
 "nbformat": 4,
 "nbformat_minor": 2
}
