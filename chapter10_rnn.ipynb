{
 "cells": [
  {
   "cell_type": "markdown",
   "metadata": {},
   "source": [
    "# Recurrent neural networks (RNNs) in `keras`"
   ]
  },
  {
   "cell_type": "markdown",
   "metadata": {},
   "source": [
    "Examples: https://github.com/fchollet/keras/tree/master/examples\n",
    "\n",
    "To consider/compare:\n",
    "\n",
    "https://github.com/fchollet/keras/blob/master/examples/imdb_fasttext.py\n",
    "\n",
    "https://github.com/fchollet/keras/blob/master/examples/lstm_benchmark.py\n",
    "\n",
    "https://github.com/fchollet/keras/blob/master/examples/imdb_bidirectional_lstm.py"
   ]
  },
  {
   "cell_type": "code",
   "execution_count": 1,
   "metadata": {
    "collapsed": true
   },
   "outputs": [],
   "source": [
    "import numpy as np\n",
    "import tensorflow.contrib.keras as keras"
   ]
  },
  {
   "cell_type": "markdown",
   "metadata": {},
   "source": [
    "## Loading the IMDB sentiment classification dataset"
   ]
  },
  {
   "cell_type": "markdown",
   "metadata": {},
   "source": [
    "Dataset used here is [IMDB Movie reviews sentiment classification dataset](https://keras.io/datasets/#imdb-movie-reviews-sentiment-classification) available through `keras`:\n",
    "\n",
    "- 25,000 movies reviews from IMDB\n",
    "- binary labeling by sentiment (positive/negative)\n",
    "- reviews encoded as a sequence of integers representing word indices\n",
    "- words indexed by overall frequency, \"1\" is corresponds to most frequent word\n",
    "- `imdb.load_data()` comes with option to consider only the top most frequent words"
   ]
  },
  {
   "cell_type": "code",
   "execution_count": 2,
   "metadata": {
    "collapsed": true
   },
   "outputs": [],
   "source": [
    "max_features = 20000\n",
    "(x_train, y_train), (x_test, y_test) = keras.datasets.imdb.load_data(num_words=max_features)"
   ]
  },
  {
   "cell_type": "code",
   "execution_count": 3,
   "metadata": {},
   "outputs": [
    {
     "data": {
      "text/plain": [
       "[1, 14, 22, 16, 43]"
      ]
     },
     "execution_count": 3,
     "metadata": {},
     "output_type": "execute_result"
    }
   ],
   "source": [
    "x_train[0][:5]"
   ]
  },
  {
   "cell_type": "code",
   "execution_count": 4,
   "metadata": {},
   "outputs": [
    {
     "data": {
      "text/plain": [
       "array([1, 0, 0, 1, 0])"
      ]
     },
     "execution_count": 4,
     "metadata": {},
     "output_type": "execute_result"
    }
   ],
   "source": [
    "y_train[:5]"
   ]
  },
  {
   "cell_type": "code",
   "execution_count": 5,
   "metadata": {},
   "outputs": [
    {
     "name": "stdout",
     "output_type": "stream",
     "text": [
      "25000 train sequences\n",
      "25000 test sequences\n",
      "Average train sequence length: 238\n",
      "Average test sequence length: 230\n"
     ]
    }
   ],
   "source": [
    "print(len(x_train), 'train sequences')\n",
    "print(len(x_test), 'test sequences')\n",
    "print('Average train sequence length: {}'.format(np.mean(list(map(len, x_train)), dtype=int)))\n",
    "print('Average test sequence length: {}'.format(np.mean(list(map(len, x_test)), dtype=int)))"
   ]
  },
  {
   "cell_type": "code",
   "execution_count": 6,
   "metadata": {
    "collapsed": true
   },
   "outputs": [],
   "source": [
    "# TODO do the above by class"
   ]
  },
  {
   "cell_type": "code",
   "execution_count": 8,
   "metadata": {},
   "outputs": [
    {
     "name": "stdout",
     "output_type": "stream",
     "text": [
      "x_train shape: (25000, 300)\n",
      "x_test shape: (25000, 300)\n"
     ]
    }
   ],
   "source": [
    "maxlen = 300\n",
    "# pad sequences shorter than maxlen with 0s; truncate \n",
    "# longer sequences to maxlen\n",
    "x_train = keras.preprocessing.sequence.pad_sequences(x_train, maxlen=maxlen)\n",
    "x_test = keras.preprocessing.sequence.pad_sequences(x_test, maxlen=maxlen)\n",
    "print('x_train shape:', x_train.shape)\n",
    "print('x_test shape:', x_test.shape)\n",
    "y_train = np.array(y_train)\n",
    "y_test = np.array(y_test)"
   ]
  },
  {
   "cell_type": "code",
   "execution_count": 10,
   "metadata": {},
   "outputs": [],
   "source": [
    "model = keras.models.Sequential()\n",
    "model.add(keras.layers.Embedding(max_features, 128, input_length=maxlen))\n",
    "#model.add(keras.layers.Bidirectional(keras.layers.LSTM(64)))\n",
    "model.add(keras.layers.LSTM(64))\n",
    "model.add(keras.layers.Dropout(0.5))\n",
    "model.add(keras.layers.Dense(1, activation='sigmoid'))\n",
    "\n",
    "# try using different optimizers and different optimizer configs\n",
    "model.compile('adam', 'binary_crossentropy', metrics=['accuracy'])"
   ]
  },
  {
   "cell_type": "code",
   "execution_count": 11,
   "metadata": {
    "collapsed": true
   },
   "outputs": [],
   "source": [
    "keras.utils.plot_model(model, to_file='img/chapter_10_rnn.png', show_shapes=True)"
   ]
  },
  {
   "cell_type": "markdown",
   "metadata": {},
   "source": [
    "![](img/chapter_10_rnn.png)"
   ]
  },
  {
   "cell_type": "code",
   "execution_count": 13,
   "metadata": {
    "collapsed": true
   },
   "outputs": [],
   "source": [
    "batch_size = 32\n",
    "epochs = 10"
   ]
  },
  {
   "cell_type": "code",
   "execution_count": 14,
   "metadata": {},
   "outputs": [
    {
     "name": "stdout",
     "output_type": "stream",
     "text": [
      "Train on 25000 samples, validate on 25000 samples\n",
      "Epoch 1/10\n",
      "25000/25000 [==============================] - 615s - loss: 0.6459 - acc: 0.6035 - val_loss: 0.5553 - val_acc: 0.7198\n",
      "Epoch 2/10\n",
      "25000/25000 [==============================] - 611s - loss: 0.5174 - acc: 0.7522 - val_loss: 0.5402 - val_acc: 0.7204\n",
      "Epoch 3/10\n",
      "25000/25000 [==============================] - 744s - loss: 0.3236 - acc: 0.8659 - val_loss: 0.3487 - val_acc: 0.8502\n",
      "Epoch 4/10\n",
      "25000/25000 [==============================] - 611s - loss: 0.1915 - acc: 0.9300 - val_loss: 0.3109 - val_acc: 0.8762\n",
      "Epoch 5/10\n",
      "25000/25000 [==============================] - 608s - loss: 0.1290 - acc: 0.9576 - val_loss: 0.3481 - val_acc: 0.8725\n",
      "Epoch 6/10\n",
      "25000/25000 [==============================] - 636s - loss: 0.0855 - acc: 0.9735 - val_loss: 0.4127 - val_acc: 0.8698\n",
      "Epoch 7/10\n",
      "25000/25000 [==============================] - 618s - loss: 0.0596 - acc: 0.9822 - val_loss: 0.4375 - val_acc: 0.8627\n",
      "Epoch 8/10\n",
      "25000/25000 [==============================] - 612s - loss: 0.0399 - acc: 0.9888 - val_loss: 0.5412 - val_acc: 0.8619\n",
      "Epoch 9/10\n",
      "25000/25000 [==============================] - 612s - loss: 0.0345 - acc: 0.9901 - val_loss: 0.6552 - val_acc: 0.8531\n",
      "Epoch 10/10\n",
      "25000/25000 [==============================] - 613s - loss: 0.0262 - acc: 0.9925 - val_loss: 0.6981 - val_acc: 0.8563\n"
     ]
    },
    {
     "data": {
      "text/plain": [
       "<tensorflow.contrib.keras.python.keras.callbacks.History at 0x12b9a7c88>"
      ]
     },
     "execution_count": 14,
     "metadata": {},
     "output_type": "execute_result"
    }
   ],
   "source": [
    "model.fit(x_train, y_train,\n",
    "          batch_size=batch_size,\n",
    "          epochs=epochs,\n",
    "          validation_data=[x_test, y_test])"
   ]
  }
 ],
 "metadata": {
  "kernelspec": {
   "display_name": "Python 3",
   "language": "python",
   "name": "python3"
  },
  "language_info": {
   "codemirror_mode": {
    "name": "ipython",
    "version": 3
   },
   "file_extension": ".py",
   "mimetype": "text/x-python",
   "name": "python",
   "nbconvert_exporter": "python",
   "pygments_lexer": "ipython3",
   "version": "3.6.1"
  }
 },
 "nbformat": 4,
 "nbformat_minor": 2
}
